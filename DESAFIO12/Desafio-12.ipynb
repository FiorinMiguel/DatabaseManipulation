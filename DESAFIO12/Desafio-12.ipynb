{
 "cells": [
  {
   "cell_type": "markdown",
   "id": "afc4a234-1bc9-4b95-bbef-e84167398a58",
   "metadata": {},
   "source": [
    "# SQLite e Polars"
   ]
  },
  {
   "cell_type": "code",
   "execution_count": 17,
   "id": "252808f7-6852-4991-8348-4737a77a4bd1",
   "metadata": {},
   "outputs": [
    {
     "name": "stdout",
     "output_type": "stream",
     "text": [
      " Arquivo executado em: 2025-10-09 10:44:24\n"
     ]
    }
   ],
   "source": [
    "from datetime import datetime\n",
    "data_hora_execucao = datetime.now()\n",
    "print(f\" Arquivo executado em: {data_hora_execucao.strftime('%Y-%m-%d %H:%M:%S')}\")"
   ]
  },
  {
   "cell_type": "code",
   "execution_count": 18,
   "id": "44426f69-8134-4fa5-86e6-74b9821f1e4b",
   "metadata": {},
   "outputs": [],
   "source": [
    "import polars as pl\n",
    "import sqlite3"
   ]
  },
  {
   "cell_type": "markdown",
   "id": "ff634228-1ac1-4135-98cc-bdacce22598c",
   "metadata": {},
   "source": [
    "## Iniciando a conexão com o banco\n",
    "A conexão com o banco de dados é feita com o método connect.\n",
    "Obtemos também o cursor, que é um objeto que permite interagir com o banco de dados"
   ]
  },
  {
   "cell_type": "code",
   "execution_count": 19,
   "id": "d7707ca6-d8f5-40ec-9bc1-9ccb2ab55bdb",
   "metadata": {},
   "outputs": [],
   "source": [
    "conn = sqlite3.connect(\"\")\n",
    "cursor = conn.cursor()"
   ]
  },
  {
   "cell_type": "markdown",
   "id": "a628bb97-1f14-43c4-b107-532a11d9d9a1",
   "metadata": {},
   "source": [
    "## Criação manual de uma tabela\n",
    "O método execute é empregado para executar comandos dentro do banco SQL."
   ]
  },
  {
   "cell_type": "code",
   "execution_count": 20,
   "id": "870c9090-d66e-4d99-b6ca-23aabb1a6b55",
   "metadata": {},
   "outputs": [
    {
     "data": {
      "text/plain": [
       "<sqlite3.Cursor at 0x7ffa154498c0>"
      ]
     },
     "execution_count": 20,
     "metadata": {},
     "output_type": "execute_result"
    }
   ],
   "source": [
    "cursor.execute('''\n",
    "CREATE TABLE vendas (\n",
    "    id INTEGER PRIMARY KEY,\n",
    "    vendedor TEXT,\n",
    "    produto TEXT,\n",
    "    valor REAL,\n",
    "    data_venda DATE\n",
    ")\n",
    "''')"
   ]
  },
  {
   "cell_type": "markdown",
   "id": "791f8cf3-eca6-41ca-8051-847c53e940c7",
   "metadata": {},
   "source": [
    "## Inserção de dados em uma tabela\n",
    "Ao realizar uma inserção, deve-se executar o commit, que fará a confirmação da operação."
   ]
  },
  {
   "cell_type": "code",
   "execution_count": 21,
   "id": "43640149-f754-47a9-93ce-b35f95c11c8c",
   "metadata": {},
   "outputs": [],
   "source": [
    "cursor.execute('''\n",
    "INSERT INTO vendas (vendedor, produto, valor, data_venda)\n",
    "VALUES\n",
    "    ('Ana', 'Produto A', 120.5, '2024-09-01'),\n",
    "    ('Carlos', 'Produto B', 200.0, '2024-10-02'),\n",
    "    ('Ana', 'Produto C', 150.0, '2024-09-03'),\n",
    "    ('Bruno', 'Produto A', 300.0, '2024-11-04'),\n",
    "    ('Carlos', 'Produto C', 100.0, '2024-10-05');\n",
    "''')\n",
    "conn.commit()"
   ]
  },
  {
   "cell_type": "markdown",
   "id": "e157f7ef-9142-4b78-969b-fb60c78db1ba",
   "metadata": {},
   "source": [
    "## Consulta simples no SQLite\n"
   ]
  },
  {
   "cell_type": "code",
   "execution_count": 22,
   "id": "42a922ed-7ae4-49f2-8224-4c4f4b6a36e9",
   "metadata": {},
   "outputs": [
    {
     "name": "stdout",
     "output_type": "stream",
     "text": [
      "(1, 'Ana', 'Produto A', 120.5, '2024-09-01')\n",
      "(2, 'Carlos', 'Produto B', 200.0, '2024-10-02')\n",
      "(3, 'Ana', 'Produto C', 150.0, '2024-09-03')\n",
      "(4, 'Bruno', 'Produto A', 300.0, '2024-11-04')\n",
      "(5, 'Carlos', 'Produto C', 100.0, '2024-10-05')\n"
     ]
    }
   ],
   "source": [
    "cursor.execute(\"SELECT * FROM vendas\")\n",
    "rows = cursor.fetchall()\n",
    "for row in rows:\n",
    "  print(row)"
   ]
  },
  {
   "cell_type": "markdown",
   "id": "f69b3804-e6d2-4ccd-b682-49712c5f0e3b",
   "metadata": {},
   "source": [
    "## Integração com Polars\n"
   ]
  },
  {
   "cell_type": "code",
   "execution_count": 23,
   "id": "3d8f39c4-0ec2-4ef8-80a3-fafc1c24b299",
   "metadata": {},
   "outputs": [
    {
     "name": "stdout",
     "output_type": "stream",
     "text": [
      "shape: (5, 5)\n",
      "┌─────┬──────────┬───────────┬───────┬────────────┐\n",
      "│ id  ┆ vendedor ┆ produto   ┆ valor ┆ data_venda │\n",
      "│ --- ┆ ---      ┆ ---       ┆ ---   ┆ ---        │\n",
      "│ i64 ┆ str      ┆ str       ┆ f64   ┆ str        │\n",
      "╞═════╪══════════╪═══════════╪═══════╪════════════╡\n",
      "│ 1   ┆ Ana      ┆ Produto A ┆ 120.5 ┆ 2024-09-01 │\n",
      "│ 2   ┆ Carlos   ┆ Produto B ┆ 200.0 ┆ 2024-10-02 │\n",
      "│ 3   ┆ Ana      ┆ Produto C ┆ 150.0 ┆ 2024-09-03 │\n",
      "│ 4   ┆ Bruno    ┆ Produto A ┆ 300.0 ┆ 2024-11-04 │\n",
      "│ 5   ┆ Carlos   ┆ Produto C ┆ 100.0 ┆ 2024-10-05 │\n",
      "└─────┴──────────┴───────────┴───────┴────────────┘\n"
     ]
    }
   ],
   "source": [
    "dados = pl.read_database(\"SELECT * FROM vendas\", conn)\n",
    "print(dados)"
   ]
  },
  {
   "cell_type": "markdown",
   "id": "b1f03d70-0468-4c98-9b0e-a548c7ad325e",
   "metadata": {},
   "source": [
    "## Exemplos\n",
    "### Qual é o total de vendas por vendedor?"
   ]
  },
  {
   "cell_type": "code",
   "execution_count": 24,
   "id": "dfef349b-3fb5-4ac9-8937-2767e6f3aae9",
   "metadata": {},
   "outputs": [
    {
     "name": "stdout",
     "output_type": "stream",
     "text": [
      "shape: (3, 2)\n",
      "┌──────────┬──────────────┐\n",
      "│ vendedor ┆ total_vendas │\n",
      "│ ---      ┆ ---          │\n",
      "│ str      ┆ f64          │\n",
      "╞══════════╪══════════════╡\n",
      "│ Ana      ┆ 270.5        │\n",
      "│ Bruno    ┆ 300.0        │\n",
      "│ Carlos   ┆ 300.0        │\n",
      "└──────────┴──────────────┘\n"
     ]
    }
   ],
   "source": [
    "vendas_total = pl.read_database('''\n",
    "   SELECT vendedor, SUM(valor) as total_vendas\n",
    "   FROM vendas\n",
    "   GROUP BY vendedor;\n",
    "''', conn)\n",
    "print(vendas_total)"
   ]
  },
  {
   "cell_type": "markdown",
   "id": "625a0289-67d6-4127-a5d9-4d5abdc81a70",
   "metadata": {},
   "source": [
    "### Qual é o valor médio de venda por vendedor?\n"
   ]
  },
  {
   "cell_type": "code",
   "execution_count": 25,
   "id": "0889840d-cea8-42fe-8266-1fbf7a2a9da3",
   "metadata": {},
   "outputs": [
    {
     "name": "stdout",
     "output_type": "stream",
     "text": [
      "shape: (3, 2)\n",
      "┌──────────┬──────────────┐\n",
      "│ vendedor ┆ total_vendas │\n",
      "│ ---      ┆ ---          │\n",
      "│ str      ┆ f64          │\n",
      "╞══════════╪══════════════╡\n",
      "│ Ana      ┆ 135.25       │\n",
      "│ Bruno    ┆ 300.0        │\n",
      "│ Carlos   ┆ 150.0        │\n",
      "└──────────┴──────────────┘\n"
     ]
    }
   ],
   "source": [
    "vendas_medias = pl.read_database('''\n",
    "   SELECT vendedor, AVG(valor) as total_vendas\n",
    "   FROM vendas\n",
    "   GROUP BY vendedor;\n",
    "''', conn)\n",
    "print(vendas_medias)"
   ]
  },
  {
   "cell_type": "markdown",
   "id": "8afd3d62-8775-4b15-951e-f81777e4ec44",
   "metadata": {},
   "source": [
    "### Crie uma tabela contendo o nome do vendedor, o número de vendas realizadas, o total vendido e o valor médio por venda.\n"
   ]
  },
  {
   "cell_type": "code",
   "execution_count": 26,
   "id": "4484650b-3b73-43d7-8cb4-368df58f6cc6",
   "metadata": {},
   "outputs": [
    {
     "name": "stdout",
     "output_type": "stream",
     "text": [
      "shape: (3, 4)\n",
      "┌──────────┬───────────────┬──────────────┬──────────────┐\n",
      "│ vendedor ┆ numero_vendas ┆ total_vendas ┆ media_vendas │\n",
      "│ ---      ┆ ---           ┆ ---          ┆ ---          │\n",
      "│ str      ┆ i64           ┆ f64          ┆ f64          │\n",
      "╞══════════╪═══════════════╪══════════════╪══════════════╡\n",
      "│ Ana      ┆ 2             ┆ 270.5        ┆ 135.25       │\n",
      "│ Bruno    ┆ 1             ┆ 300.0        ┆ 300.0        │\n",
      "│ Carlos   ┆ 2             ┆ 300.0        ┆ 150.0        │\n",
      "└──────────┴───────────────┴──────────────┴──────────────┘\n"
     ]
    }
   ],
   "source": [
    "vendas_comb = pl.read_database(\"\"\"\n",
    "SELECT vendedor, \n",
    "       COUNT(*) as numero_vendas,\n",
    "       SUM(valor) as total_vendas, \n",
    "       AVG(valor) as media_vendas\n",
    "FROM vendas\n",
    "GROUP BY vendedor;\n",
    "\"\"\", conn)\n",
    "\n",
    "print(vendas_comb)"
   ]
  },
  {
   "cell_type": "markdown",
   "id": "d8b68b50-1ad7-4301-a044-d7b948387d3c",
   "metadata": {},
   "source": [
    "### Quais foram as vendas de, pelo menos, $200.00?\n"
   ]
  },
  {
   "cell_type": "code",
   "execution_count": 27,
   "id": "0668c108-ff57-4018-9925-7fdb55c23f69",
   "metadata": {},
   "outputs": [
    {
     "name": "stdout",
     "output_type": "stream",
     "text": [
      "shape: (2, 5)\n",
      "┌─────┬──────────┬───────────┬───────┬────────────┐\n",
      "│ id  ┆ vendedor ┆ produto   ┆ valor ┆ data_venda │\n",
      "│ --- ┆ ---      ┆ ---       ┆ ---   ┆ ---        │\n",
      "│ i64 ┆ str      ┆ str       ┆ f64   ┆ str        │\n",
      "╞═════╪══════════╪═══════════╪═══════╪════════════╡\n",
      "│ 2   ┆ Carlos   ┆ Produto B ┆ 200.0 ┆ 2024-10-02 │\n",
      "│ 4   ┆ Bruno    ┆ Produto A ┆ 300.0 ┆ 2024-11-04 │\n",
      "└─────┴──────────┴───────────┴───────┴────────────┘\n"
     ]
    }
   ],
   "source": [
    "ticket_alto = pl.read_database(\"\"\"\n",
    "SELECT * FROM vendas WHERE valor >= 200\n",
    "\"\"\", conn)\n",
    "print(ticket_alto)"
   ]
  },
  {
   "cell_type": "markdown",
   "id": "8da2515f-5824-42bd-8f9f-31c65241dc11",
   "metadata": {},
   "source": [
    "### Qual foi o volume mensal de vendas?\n"
   ]
  },
  {
   "cell_type": "code",
   "execution_count": 28,
   "id": "546bfab6-55a4-4977-8d92-616e2655a77f",
   "metadata": {},
   "outputs": [
    {
     "name": "stdout",
     "output_type": "stream",
     "text": [
      "shape: (3, 2)\n",
      "┌─────────┬──────────────┐\n",
      "│ mes     ┆ total_vendas │\n",
      "│ ---     ┆ ---          │\n",
      "│ str     ┆ f64          │\n",
      "╞═════════╪══════════════╡\n",
      "│ 2024-09 ┆ 270.5        │\n",
      "│ 2024-10 ┆ 300.0        │\n",
      "│ 2024-11 ┆ 300.0        │\n",
      "└─────────┴──────────────┘\n"
     ]
    }
   ],
   "source": [
    "vendas_mensais = pl.read_database(\"\"\"\n",
    "SELECT strftime('%Y-%m', data_venda) AS mes, SUM(valor) AS total_vendas\n",
    "FROM vendas GROUP BY mes ORDER BY mes\n",
    "\"\"\", conn)\n",
    "print(vendas_mensais)"
   ]
  },
  {
   "cell_type": "markdown",
   "id": "76dccc01-6c8a-47ac-9ae2-087e6c609c9d",
   "metadata": {},
   "source": [
    "## Criando a tabela de produtos\n"
   ]
  },
  {
   "cell_type": "code",
   "execution_count": 29,
   "id": "1b8cd557-e62f-41c2-a18d-5dd9a8152d58",
   "metadata": {},
   "outputs": [],
   "source": [
    "cursor.execute('''\n",
    "CREATE TABLE IF NOT EXISTS produtos (\n",
    "    id INTEGER PRIMARY KEY,\n",
    "    nome TEXT NOT NULL,\n",
    "    categoria TEXT NOT NULL,\n",
    "    preco REAL NOT NULL,\n",
    "    estoque INTEGER NOT NULL\n",
    ");\n",
    "''')\n",
    "cursor.execute('''\n",
    "INSERT INTO produtos (nome, categoria, preco, estoque) VALUES\n",
    "    ('Produto A', 'Categoria 1', 100.0, 50),\n",
    "    ('Produto B', 'Categoria 2', 150.0, 30),\n",
    "    ('Produto C', 'Categoria 1', 200.0, 20),\n",
    "    ('Produto D', 'Categoria 2', 250.0, 10),\n",
    "    ('Produto E', 'Categoria 3', 300.0, 0);\n",
    "''')\n",
    "conn.commit()"
   ]
  },
  {
   "cell_type": "markdown",
   "id": "66132ff5-2f2e-49db-b5ee-335de6d34a2a",
   "metadata": {},
   "source": [
    "## Consultando a tabela de produtos\n"
   ]
  },
  {
   "cell_type": "code",
   "execution_count": 30,
   "id": "e4225ef7-bf22-4f47-96a8-d408ba7ce4e5",
   "metadata": {},
   "outputs": [
    {
     "name": "stdout",
     "output_type": "stream",
     "text": [
      "shape: (5, 5)\n",
      "┌─────┬───────────┬─────────────┬───────┬─────────┐\n",
      "│ id  ┆ nome      ┆ categoria   ┆ preco ┆ estoque │\n",
      "│ --- ┆ ---       ┆ ---         ┆ ---   ┆ ---     │\n",
      "│ i64 ┆ str       ┆ str         ┆ f64   ┆ i64     │\n",
      "╞═════╪═══════════╪═════════════╪═══════╪═════════╡\n",
      "│ 1   ┆ Produto A ┆ Categoria 1 ┆ 100.0 ┆ 50      │\n",
      "│ 2   ┆ Produto B ┆ Categoria 2 ┆ 150.0 ┆ 30      │\n",
      "│ 3   ┆ Produto C ┆ Categoria 1 ┆ 200.0 ┆ 20      │\n",
      "│ 4   ┆ Produto D ┆ Categoria 2 ┆ 250.0 ┆ 10      │\n",
      "│ 5   ┆ Produto E ┆ Categoria 3 ┆ 300.0 ┆ 0       │\n",
      "└─────┴───────────┴─────────────┴───────┴─────────┘\n"
     ]
    }
   ],
   "source": [
    "prods = pl.read_database(\"SELECT * FROM produtos\", conn)\n",
    "print(prods)"
   ]
  },
  {
   "cell_type": "markdown",
   "id": "37884f5e-77af-4602-8a11-bd694c85242a",
   "metadata": {},
   "source": [
    "## JOINs de vendas e produtos\n",
    "- A coluna valor em vendas representa o valor de venda do respectivo produto.\n",
    "- A coluna preco em produtos representa o valor de compra do respectivo produto.\n",
    "- Apresente uma tabela com o nome do produto, seu valor de compra e venda, além do lucro no momento da venda."
   ]
  },
  {
   "cell_type": "markdown",
   "id": "bee2a1b4-cb20-43c9-8142-95dd7524f923",
   "metadata": {},
   "source": [
    "## JOINs de vendas e produtos\n"
   ]
  },
  {
   "cell_type": "code",
   "execution_count": 31,
   "id": "4c5a7a10-28e9-4abb-aeee-9d63103f34d0",
   "metadata": {},
   "outputs": [
    {
     "name": "stdout",
     "output_type": "stream",
     "text": [
      "shape: (5, 4)\n",
      "┌───────────┬────────┬───────┬────────┐\n",
      "│ produto   ┆ compra ┆ venda ┆ lucro  │\n",
      "│ ---       ┆ ---    ┆ ---   ┆ ---    │\n",
      "│ str       ┆ f64    ┆ f64   ┆ f64    │\n",
      "╞═══════════╪════════╪═══════╪════════╡\n",
      "│ Produto A ┆ 120.5  ┆ 100.0 ┆ -20.5  │\n",
      "│ Produto B ┆ 200.0  ┆ 150.0 ┆ -50.0  │\n",
      "│ Produto C ┆ 150.0  ┆ 200.0 ┆ 50.0   │\n",
      "│ Produto A ┆ 300.0  ┆ 100.0 ┆ -200.0 │\n",
      "│ Produto C ┆ 100.0  ┆ 200.0 ┆ 100.0  │\n",
      "└───────────┴────────┴───────┴────────┘\n"
     ]
    }
   ],
   "source": [
    "lucros = pl.read_database(\"\"\"\n",
    "SELECT produto, valor AS compra, preco AS venda, preco-valor AS lucro\n",
    "FROM vendas\n",
    "INNER JOIN produtos ON vendas.produto = produtos.nome\n",
    "\"\"\", conn)\n",
    "print(lucros)"
   ]
  },
  {
   "cell_type": "markdown",
   "id": "97d87e23-4441-474d-8934-2fd01f851a6e",
   "metadata": {},
   "source": [
    "## Exemplo:\n",
    "### Qual foi o lucro médio por vendedor?\n",
    "\n"
   ]
  },
  {
   "cell_type": "code",
   "execution_count": 32,
   "id": "8154ea8a-c096-4bab-a9f0-3e9646535adf",
   "metadata": {},
   "outputs": [
    {
     "name": "stdout",
     "output_type": "stream",
     "text": [
      "shape: (3, 3)\n",
      "┌──────────┬───────────┬─────────────┐\n",
      "│ vendedor ┆ produto   ┆ lucro_medio │\n",
      "│ ---      ┆ ---       ┆ ---         │\n",
      "│ str      ┆ str       ┆ f64         │\n",
      "╞══════════╪═══════════╪═════════════╡\n",
      "│ Ana      ┆ Produto A ┆ 14.75       │\n",
      "│ Bruno    ┆ Produto A ┆ -200.0      │\n",
      "│ Carlos   ┆ Produto B ┆ 25.0        │\n",
      "└──────────┴───────────┴─────────────┘\n"
     ]
    }
   ],
   "source": [
    "lucro_medio = pl.read_database(\"\"\"\n",
    "SELECT vendedor, produto, AVG(preco-valor) AS lucro_medio\n",
    "FROM vendas\n",
    "INNER JOIN produtos ON vendas.produto = produtos.nome\n",
    "GROUP BY vendedor\n",
    "\"\"\", conn)\n",
    "print(lucro_medio)"
   ]
  }
 ],
 "metadata": {
  "kernelspec": {
   "display_name": "Python 3 (ipykernel)",
   "language": "python",
   "name": "python3"
  },
  "language_info": {
   "codemirror_mode": {
    "name": "ipython",
    "version": 3
   },
   "file_extension": ".py",
   "mimetype": "text/x-python",
   "name": "python",
   "nbconvert_exporter": "python",
   "pygments_lexer": "ipython3",
   "version": "3.12.2"
  }
 },
 "nbformat": 4,
 "nbformat_minor": 5
}
