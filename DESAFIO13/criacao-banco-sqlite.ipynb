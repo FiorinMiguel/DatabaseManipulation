{
 "cells": [
  {
   "cell_type": "markdown",
   "id": "9f9ebf5a-18f9-4fdf-bb3a-a11edabfc5f5",
   "metadata": {},
   "source": [
    "## Carregando pacotes necessários e criando um arquivo para o banco de dados SQLite"
   ]
  },
  {
   "cell_type": "code",
   "execution_count": 12,
   "id": "739f7197-b107-47d0-ab80-3648912b9934",
   "metadata": {},
   "outputs": [],
   "source": [
    "import os\n",
    "import polars as pl\n",
    "import sqlite3\n",
    "import pandas as pd\n",
    "import gc"
   ]
  },
  {
   "cell_type": "code",
   "execution_count": 13,
   "id": "b9b863cc-77d1-49e9-9167-f4f01fd03cfd",
   "metadata": {},
   "outputs": [],
   "source": [
    "conn = sqlite3.connect(\"IMDB.db\")"
   ]
  },
  {
   "cell_type": "markdown",
   "id": "a71182bb-1a5b-4dfb-848c-0378383f9324",
   "metadata": {},
   "source": [
    "## Adicionando as tabelas \"basics\", \"ratings\", \"principals\" à base de dados"
   ]
  },
  {
   "cell_type": "markdown",
   "id": "d3b384d6-30f1-421c-9936-82d15b4d384f",
   "metadata": {},
   "source": [
    "### Basics (11144943 linhas - verificado via terminal)"
   ]
  },
  {
   "cell_type": "code",
   "execution_count": 10,
   "id": "cd7a9b19-b2e4-4c07-a1ed-f147b681456d",
   "metadata": {
    "scrolled": true
   },
   "outputs": [
    {
     "name": "stderr",
     "output_type": "stream",
     "text": [
      "/tmp/ipykernel_17905/4085836057.py:25: DeprecationWarning: the argument `dtypes` for `read_csv` is deprecated. It was renamed to `schema_overrides` in version 0.20.31.\n",
      "  chunk = pl.read_csv(\n"
     ]
    },
    {
     "name": "stdout",
     "output_type": "stream",
     "text": [
      "Erro no chunk: empty CSV\n",
      "Registros na tabela: 11144942\n"
     ]
    }
   ],
   "source": [
    "# Configurações\n",
    "chunk_size = 200000\n",
    "db_file = \"IMDB.db\"\n",
    "table_name = \"basics\"\n",
    "tsv_file = \"title.basics0.tsv\"\n",
    "\n",
    "conn = sqlite3.connect(db_file)\n",
    "\n",
    "def process_large_tsv_with_polars(file_path, chunk_size, conn, table_name):\n",
    "    # Lê o schema tratando \\N como valores nulos\n",
    "    schema = pl.read_csv(\n",
    "        file_path, \n",
    "        separator='\\t', \n",
    "        n_rows=1000,\n",
    "        null_values=['\\\\N'],\n",
    "        infer_schema_length=1000\n",
    "    ).schema\n",
    "    \n",
    "    total_rows = 0\n",
    "    skip_rows = 1\n",
    "    \n",
    "    while True:\n",
    "        try:\n",
    "            # Lê um chunk tratando \\N como nulos\n",
    "            chunk = pl.read_csv(\n",
    "                file_path,\n",
    "                separator='\\t',\n",
    "                skip_rows=skip_rows,\n",
    "                n_rows=chunk_size,\n",
    "                has_header=False,\n",
    "                null_values=['\\\\N'],\n",
    "                ignore_errors=True,\n",
    "                new_columns=list(schema.keys()),\n",
    "                dtypes=schema\n",
    "            )\n",
    "            \n",
    "            if chunk.height == 0:\n",
    "                break\n",
    "                \n",
    "            # Converte e salva no banco\n",
    "            chunk.to_pandas().to_sql(\n",
    "                table_name,\n",
    "                conn,\n",
    "                if_exists='append' if skip_rows > 1 else 'replace',\n",
    "                index=False\n",
    "            )\n",
    "            \n",
    "            total_rows += chunk.height\n",
    "            skip_rows += chunk_size\n",
    "            \n",
    "            import gc\n",
    "            gc.collect()\n",
    "            \n",
    "        except Exception as e:\n",
    "            print(f\"Erro no chunk: {e}\")\n",
    "            break\n",
    "    \n",
    "    return total_rows\n",
    "\n",
    "total = process_large_tsv_with_polars(tsv_file, chunk_size, conn, table_name)\n",
    "\n",
    "# Verificação final\n",
    "count_result = pl.read_database(f\"SELECT COUNT(*) as count FROM {table_name}\", conn)\n",
    "print(f\"Registros na tabela: {count_result['count'][0]}\")"
   ]
  },
  {
   "cell_type": "code",
   "execution_count": 14,
   "id": "35edc09c-85ee-46f2-8219-64d95e512f11",
   "metadata": {},
   "outputs": [
    {
     "name": "stdout",
     "output_type": "stream",
     "text": [
      "   COUNT(*)\n",
      "0  11144942\n"
     ]
    }
   ],
   "source": [
    "teste = pd.read_sql_query(\"SELECT COUNT(*) FROM basics\", conn)\n",
    "print(teste)"
   ]
  },
  {
   "cell_type": "markdown",
   "id": "5390b1b2-323b-4365-a59b-11a0f2364f71",
   "metadata": {},
   "source": [
    "### Ratings (1484616 linhas)"
   ]
  },
  {
   "cell_type": "code",
   "execution_count": 16,
   "id": "c79ca9ef-f4d0-40b7-96f3-10ff33a658c2",
   "metadata": {},
   "outputs": [
    {
     "name": "stdout",
     "output_type": "stream",
     "text": [
      "Erro no chunk: empty CSV\n",
      "Registros na tabela ratings: 1484615\n",
      "Colunas da tabela ratings:\n",
      "shape: (3, 6)\n",
      "┌─────┬───────────────┬─────────┬─────────┬────────────┬─────┐\n",
      "│ cid ┆ name          ┆ type    ┆ notnull ┆ dflt_value ┆ pk  │\n",
      "│ --- ┆ ---           ┆ ---     ┆ ---     ┆ ---        ┆ --- │\n",
      "│ i64 ┆ str           ┆ str     ┆ i64     ┆ null       ┆ i64 │\n",
      "╞═════╪═══════════════╪═════════╪═════════╪════════════╪═════╡\n",
      "│ 0   ┆ tconst        ┆ TEXT    ┆ 0       ┆ null       ┆ 0   │\n",
      "│ 1   ┆ averageRating ┆ REAL    ┆ 0       ┆ null       ┆ 0   │\n",
      "│ 2   ┆ numVotes      ┆ INTEGER ┆ 0       ┆ null       ┆ 0   │\n",
      "└─────┴───────────────┴─────────┴─────────┴────────────┴─────┘\n"
     ]
    }
   ],
   "source": [
    "conn.execute(\"DROP TABLE IF EXISTS ratings\")\n",
    "\n",
    "chunk_size = 200000  # 200k\n",
    "\n",
    "def process_ratings_chunk(file_path, chunk_size, conn, table_name):\n",
    "    # Lê o schema tratando \\N como valores nulos\n",
    "    schema = pl.read_csv(\n",
    "        file_path, \n",
    "        separator='\\t', \n",
    "        n_rows=1000,\n",
    "        null_values=['\\\\N'],\n",
    "        infer_schema_length=1000\n",
    "    ).schema\n",
    "    \n",
    "    total_rows = 0\n",
    "    skip_rows = 1\n",
    "    \n",
    "    while True:\n",
    "        try:\n",
    "            # Lê um chunk tratando \\N como nulos\n",
    "            chunk = pl.read_csv(\n",
    "                file_path,\n",
    "                separator='\\t',\n",
    "                skip_rows=skip_rows,\n",
    "                n_rows=chunk_size,\n",
    "                has_header=False,\n",
    "                null_values=['\\\\N'],\n",
    "                ignore_errors=True,\n",
    "                new_columns=list(schema.keys()),\n",
    "                schema_overrides=schema\n",
    "            )\n",
    "            \n",
    "            if chunk.height == 0:\n",
    "                break\n",
    "                \n",
    "            # Converte e salva no banco\n",
    "            chunk.to_pandas().to_sql(\n",
    "                table_name,\n",
    "                conn,\n",
    "                if_exists='append' if skip_rows > 1 else 'replace',\n",
    "                index=False\n",
    "            )\n",
    "            \n",
    "            total_rows += chunk.height\n",
    "            skip_rows += chunk_size\n",
    "            \n",
    "            import gc\n",
    "            gc.collect()\n",
    "            \n",
    "        except Exception as e:\n",
    "            print(f\"Erro no chunk: {e}\")\n",
    "            break\n",
    "    \n",
    "    return total_rows\n",
    "\n",
    "# Processa o arquivo de ratings\n",
    "total = process_ratings_chunk(\"title.ratings.tsv\", chunk_size, conn, \"ratings\")\n",
    "\n",
    "# Verifica a contagem\n",
    "count_result = pl.read_database(\"SELECT COUNT(*) as count FROM ratings\", conn)\n",
    "print(f\"Registros na tabela ratings: {count_result['count'][0]}\")\n",
    "\n",
    "# Lista as colunas da tabela\n",
    "columns_result = pl.read_database(\"PRAGMA table_info(ratings)\", conn)\n",
    "print(\"Colunas da tabela ratings:\")\n",
    "print(columns_result)"
   ]
  },
  {
   "cell_type": "markdown",
   "id": "eb673c9f-f42f-4bd6-ba3e-d91be81c0ceb",
   "metadata": {},
   "source": [
    "Logo, processamento realizado com sucesso."
   ]
  },
  {
   "cell_type": "markdown",
   "id": "c67b5fc7-eacf-4375-b53b-ab0cbcd2d979",
   "metadata": {},
   "source": [
    "### Principals (88.359.623 linhas)"
   ]
  },
  {
   "cell_type": "code",
   "execution_count": 17,
   "id": "0caedeb5-a3bf-4d87-b341-4430f81841bd",
   "metadata": {},
   "outputs": [
    {
     "name": "stdout",
     "output_type": "stream",
     "text": [
      "Erro no chunk: empty CSV\n",
      "Registros na tabela principals: 88359622\n"
     ]
    }
   ],
   "source": [
    "chunk_size = 200000  \n",
    "\n",
    "def process_principals_chunk(file_path, chunk_size, conn, table_name):\n",
    "    # Lê o schema tratando \\N como valores nulos\n",
    "    schema = pl.read_csv(\n",
    "        file_path, \n",
    "        separator='\\t', \n",
    "        n_rows=1000,\n",
    "        null_values=['\\\\N'],\n",
    "        infer_schema_length=1000\n",
    "    ).schema\n",
    "    \n",
    "    total_rows = 0\n",
    "    skip_rows = 1\n",
    "    \n",
    "    while True:\n",
    "        try:\n",
    "            # Lê um chunk tratando \\N como nulos\n",
    "            chunk = pl.read_csv(\n",
    "                file_path,\n",
    "                separator='\\t',\n",
    "                skip_rows=skip_rows,\n",
    "                n_rows=chunk_size,\n",
    "                has_header=False,\n",
    "                null_values=['\\\\N'],\n",
    "                ignore_errors=True,\n",
    "                new_columns=list(schema.keys()),\n",
    "                schema_overrides=schema\n",
    "            )\n",
    "            \n",
    "            if chunk.height == 0:\n",
    "                break\n",
    "                \n",
    "            # Converte e salva no banco\n",
    "            chunk.to_pandas().to_sql(\n",
    "                table_name,\n",
    "                conn,\n",
    "                if_exists='append' if skip_rows > 1 else 'replace',\n",
    "                index=False\n",
    "            )\n",
    "            \n",
    "            total_rows += chunk.height\n",
    "            skip_rows += chunk_size\n",
    "            \n",
    "            import gc\n",
    "            gc.collect()\n",
    "            \n",
    "        except Exception as e:\n",
    "            print(f\"Erro no chunk: {e}\")\n",
    "            break\n",
    "    \n",
    "    return total_rows\n",
    "\n",
    "# Processa o arquivo de principals\n",
    "total = process_principals_chunk(\"title.principals0.tsv\", chunk_size, conn, \"principals\")\n",
    "\n",
    "# Verifica a contagem\n",
    "count_result = pl.read_database(\"SELECT COUNT(*) as count FROM principals\", conn)\n",
    "print(f\"Registros na tabela principals: {count_result['count'][0]}\")"
   ]
  },
  {
   "cell_type": "code",
   "execution_count": 18,
   "id": "e982d0ad-56a9-4936-8450-0952671e0645",
   "metadata": {},
   "outputs": [],
   "source": [
    "conn.close()"
   ]
  }
 ],
 "metadata": {
  "kernelspec": {
   "display_name": "Python 3 (ipykernel)",
   "language": "python",
   "name": "python3"
  },
  "language_info": {
   "codemirror_mode": {
    "name": "ipython",
    "version": 3
   },
   "file_extension": ".py",
   "mimetype": "text/x-python",
   "name": "python",
   "nbconvert_exporter": "python",
   "pygments_lexer": "ipython3",
   "version": "3.13.5"
  }
 },
 "nbformat": 4,
 "nbformat_minor": 5
}
