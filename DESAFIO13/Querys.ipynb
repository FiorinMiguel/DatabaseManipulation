{
 "cells": [
  {
   "cell_type": "code",
   "execution_count": 22,
   "id": "f2059688-7981-488f-923c-8b5779448669",
   "metadata": {},
   "outputs": [],
   "source": [
    "import sqlite3\n",
    "import pandas as pd\n",
    "import polars as pl\n",
    "conn = sqlite3.connect(\"IMDB.db\")\n",
    "cursor = conn.cursor()"
   ]
  },
  {
   "cell_type": "code",
   "execution_count": 23,
   "id": "b91e7833-cfaf-43a3-b896-ff3c1ecdb63b",
   "metadata": {},
   "outputs": [
    {
     "name": "stdout",
     "output_type": "stream",
     "text": [
      "Compilado em: 21/10/2025 21:58:17\n"
     ]
    }
   ],
   "source": [
    "from datetime import datetime\n",
    "\n",
    "now = datetime.now()\n",
    "print(\"Compilado em:\", now.strftime(\"%d/%m/%Y %H:%M:%S\"))"
   ]
  },
  {
   "cell_type": "markdown",
   "id": "73e4fd92-1f74-44fc-ac7e-835815f77494",
   "metadata": {},
   "source": [
    "# IMDB Querys - LAB 13 (ME315)\n",
    "## Analisando estrutura das tabelas presentes no banco de dados"
   ]
  },
  {
   "cell_type": "markdown",
   "id": "8d30d32f-cd96-43c6-998d-f05a8bf5f36a",
   "metadata": {},
   "source": [
    "**Tabela basics**:"
   ]
  },
  {
   "cell_type": "code",
   "execution_count": 33,
   "id": "b95dda65-91d7-4935-8003-cb3c3980a684",
   "metadata": {
    "scrolled": true
   },
   "outputs": [
    {
     "data": {
      "text/html": [
       "<div><style>\n",
       ".dataframe > thead > tr,\n",
       ".dataframe > tbody > tr {\n",
       "  text-align: right;\n",
       "  white-space: pre-wrap;\n",
       "}\n",
       "</style>\n",
       "<small>shape: (6, 9)</small><table border=\"1\" class=\"dataframe\"><thead><tr><th>tconst</th><th>titleType</th><th>primaryTitle</th><th>originalTitle</th><th>isAdult</th><th>startYear</th><th>endYear</th><th>runtimeMinutes</th><th>genres</th></tr><tr><td>str</td><td>str</td><td>str</td><td>str</td><td>i64</td><td>f64</td><td>null</td><td>f64</td><td>str</td></tr></thead><tbody><tr><td>&quot;tt0000001&quot;</td><td>&quot;short&quot;</td><td>&quot;Carmencita&quot;</td><td>&quot;Carmencita&quot;</td><td>0</td><td>1894.0</td><td>null</td><td>1.0</td><td>&quot;Documentary,Short&quot;</td></tr><tr><td>&quot;tt0000002&quot;</td><td>&quot;short&quot;</td><td>&quot;Le clown et ses chiens&quot;</td><td>&quot;Le clown et ses chiens&quot;</td><td>0</td><td>1892.0</td><td>null</td><td>5.0</td><td>&quot;Animation,Short&quot;</td></tr><tr><td>&quot;tt0000003&quot;</td><td>&quot;short&quot;</td><td>&quot;Pauvre Pierrot&quot;</td><td>&quot;Pauvre Pierrot&quot;</td><td>0</td><td>1892.0</td><td>null</td><td>5.0</td><td>&quot;Animation,Comedy,Romance&quot;</td></tr><tr><td>&quot;tt0000004&quot;</td><td>&quot;short&quot;</td><td>&quot;Un bon bock&quot;</td><td>&quot;Un bon bock&quot;</td><td>0</td><td>1892.0</td><td>null</td><td>12.0</td><td>&quot;Animation,Short&quot;</td></tr><tr><td>&quot;tt0000005&quot;</td><td>&quot;short&quot;</td><td>&quot;Blacksmith Scene&quot;</td><td>&quot;Blacksmith Scene&quot;</td><td>0</td><td>1893.0</td><td>null</td><td>1.0</td><td>&quot;Comedy,Short&quot;</td></tr><tr><td>&quot;tt0000006&quot;</td><td>&quot;short&quot;</td><td>&quot;Chinese Opium Den&quot;</td><td>&quot;Chinese Opium Den&quot;</td><td>0</td><td>1894.0</td><td>null</td><td>1.0</td><td>&quot;Short&quot;</td></tr></tbody></table></div>"
      ],
      "text/plain": [
       "shape: (6, 9)\n",
       "┌───────────┬───────────┬────────────┬───────────┬───┬───────────┬─────────┬───────────┬───────────┐\n",
       "│ tconst    ┆ titleType ┆ primaryTit ┆ originalT ┆ … ┆ startYear ┆ endYear ┆ runtimeMi ┆ genres    │\n",
       "│ ---       ┆ ---       ┆ le         ┆ itle      ┆   ┆ ---       ┆ ---     ┆ nutes     ┆ ---       │\n",
       "│ str       ┆ str       ┆ ---        ┆ ---       ┆   ┆ f64       ┆ null    ┆ ---       ┆ str       │\n",
       "│           ┆           ┆ str        ┆ str       ┆   ┆           ┆         ┆ f64       ┆           │\n",
       "╞═══════════╪═══════════╪════════════╪═══════════╪═══╪═══════════╪═════════╪═══════════╪═══════════╡\n",
       "│ tt0000001 ┆ short     ┆ Carmencita ┆ Carmencit ┆ … ┆ 1894.0    ┆ null    ┆ 1.0       ┆ Documenta │\n",
       "│           ┆           ┆            ┆ a         ┆   ┆           ┆         ┆           ┆ ry,Short  │\n",
       "│ tt0000002 ┆ short     ┆ Le clown   ┆ Le clown  ┆ … ┆ 1892.0    ┆ null    ┆ 5.0       ┆ Animation │\n",
       "│           ┆           ┆ et ses     ┆ et ses    ┆   ┆           ┆         ┆           ┆ ,Short    │\n",
       "│           ┆           ┆ chiens     ┆ chiens    ┆   ┆           ┆         ┆           ┆           │\n",
       "│ tt0000003 ┆ short     ┆ Pauvre     ┆ Pauvre    ┆ … ┆ 1892.0    ┆ null    ┆ 5.0       ┆ Animation │\n",
       "│           ┆           ┆ Pierrot    ┆ Pierrot   ┆   ┆           ┆         ┆           ┆ ,Comedy,R │\n",
       "│           ┆           ┆            ┆           ┆   ┆           ┆         ┆           ┆ omance    │\n",
       "│ tt0000004 ┆ short     ┆ Un bon     ┆ Un bon    ┆ … ┆ 1892.0    ┆ null    ┆ 12.0      ┆ Animation │\n",
       "│           ┆           ┆ bock       ┆ bock      ┆   ┆           ┆         ┆           ┆ ,Short    │\n",
       "│ tt0000005 ┆ short     ┆ Blacksmith ┆ Blacksmit ┆ … ┆ 1893.0    ┆ null    ┆ 1.0       ┆ Comedy,Sh │\n",
       "│           ┆           ┆ Scene      ┆ h Scene   ┆   ┆           ┆         ┆           ┆ ort       │\n",
       "│ tt0000006 ┆ short     ┆ Chinese    ┆ Chinese   ┆ … ┆ 1894.0    ┆ null    ┆ 1.0       ┆ Short     │\n",
       "│           ┆           ┆ Opium Den  ┆ Opium Den ┆   ┆           ┆         ┆           ┆           │\n",
       "└───────────┴───────────┴────────────┴───────────┴───┴───────────┴─────────┴───────────┴───────────┘"
      ]
     },
     "execution_count": 33,
     "metadata": {},
     "output_type": "execute_result"
    }
   ],
   "source": [
    "head_basics = pl.read_database(\n",
    "    \"SELECT * FROM basics LIMIT 6;\",\n",
    "    connection= conn\n",
    ")\n",
    "head_basics"
   ]
  },
  {
   "cell_type": "markdown",
   "id": "5f159f70-3bc9-4467-81f3-0b1cfa22a692",
   "metadata": {},
   "source": [
    "**Tabela principals**:"
   ]
  },
  {
   "cell_type": "code",
   "execution_count": 32,
   "id": "276fd854-1c8d-4de4-a12f-34dcd1180a08",
   "metadata": {},
   "outputs": [
    {
     "data": {
      "text/html": [
       "<div><style>\n",
       ".dataframe > thead > tr,\n",
       ".dataframe > tbody > tr {\n",
       "  text-align: right;\n",
       "  white-space: pre-wrap;\n",
       "}\n",
       "</style>\n",
       "<small>shape: (6, 6)</small><table border=\"1\" class=\"dataframe\"><thead><tr><th>tconst</th><th>ordering</th><th>nconst</th><th>category</th><th>job</th><th>characters</th></tr><tr><td>str</td><td>i64</td><td>str</td><td>str</td><td>str</td><td>str</td></tr></thead><tbody><tr><td>&quot;tt0000001&quot;</td><td>1</td><td>&quot;nm1588970&quot;</td><td>&quot;self&quot;</td><td>null</td><td>&quot;[Self]&quot;</td></tr><tr><td>&quot;tt0000001&quot;</td><td>2</td><td>&quot;nm0005690&quot;</td><td>&quot;director&quot;</td><td>null</td><td>null</td></tr><tr><td>&quot;tt0000001&quot;</td><td>3</td><td>&quot;nm0005690&quot;</td><td>&quot;producer&quot;</td><td>&quot;producer&quot;</td><td>null</td></tr><tr><td>&quot;tt0000001&quot;</td><td>4</td><td>&quot;nm0374658&quot;</td><td>&quot;cinematographer&quot;</td><td>&quot;director of photography&quot;</td><td>null</td></tr><tr><td>&quot;tt0000002&quot;</td><td>1</td><td>&quot;nm0721526&quot;</td><td>&quot;director&quot;</td><td>null</td><td>null</td></tr><tr><td>&quot;tt0000002&quot;</td><td>2</td><td>&quot;nm1335271&quot;</td><td>&quot;composer&quot;</td><td>null</td><td>null</td></tr></tbody></table></div>"
      ],
      "text/plain": [
       "shape: (6, 6)\n",
       "┌───────────┬──────────┬───────────┬─────────────────┬─────────────────────────┬────────────┐\n",
       "│ tconst    ┆ ordering ┆ nconst    ┆ category        ┆ job                     ┆ characters │\n",
       "│ ---       ┆ ---      ┆ ---       ┆ ---             ┆ ---                     ┆ ---        │\n",
       "│ str       ┆ i64      ┆ str       ┆ str             ┆ str                     ┆ str        │\n",
       "╞═══════════╪══════════╪═══════════╪═════════════════╪═════════════════════════╪════════════╡\n",
       "│ tt0000001 ┆ 1        ┆ nm1588970 ┆ self            ┆ null                    ┆ [Self]     │\n",
       "│ tt0000001 ┆ 2        ┆ nm0005690 ┆ director        ┆ null                    ┆ null       │\n",
       "│ tt0000001 ┆ 3        ┆ nm0005690 ┆ producer        ┆ producer                ┆ null       │\n",
       "│ tt0000001 ┆ 4        ┆ nm0374658 ┆ cinematographer ┆ director of photography ┆ null       │\n",
       "│ tt0000002 ┆ 1        ┆ nm0721526 ┆ director        ┆ null                    ┆ null       │\n",
       "│ tt0000002 ┆ 2        ┆ nm1335271 ┆ composer        ┆ null                    ┆ null       │\n",
       "└───────────┴──────────┴───────────┴─────────────────┴─────────────────────────┴────────────┘"
      ]
     },
     "execution_count": 32,
     "metadata": {},
     "output_type": "execute_result"
    }
   ],
   "source": [
    "head_principals = pl.read_database(\n",
    "    \"SELECT * FROM principals LIMIT 6;\",\n",
    "    connection=conn\n",
    ")\n",
    "head_principals"
   ]
  },
  {
   "cell_type": "markdown",
   "id": "1ac17fc4-0bff-4a1a-a2be-4a159deeeacc",
   "metadata": {},
   "source": [
    "**Tabela ratings**:"
   ]
  },
  {
   "cell_type": "code",
   "execution_count": 31,
   "id": "2e351ac9-275f-43d6-b987-49f89e55bf28",
   "metadata": {},
   "outputs": [
    {
     "data": {
      "text/html": [
       "<div><style>\n",
       ".dataframe > thead > tr,\n",
       ".dataframe > tbody > tr {\n",
       "  text-align: right;\n",
       "  white-space: pre-wrap;\n",
       "}\n",
       "</style>\n",
       "<small>shape: (6, 3)</small><table border=\"1\" class=\"dataframe\"><thead><tr><th>tconst</th><th>averageRating</th><th>numVotes</th></tr><tr><td>str</td><td>f64</td><td>i64</td></tr></thead><tbody><tr><td>&quot;tt0000001&quot;</td><td>5.7</td><td>2092</td></tr><tr><td>&quot;tt0000002&quot;</td><td>5.6</td><td>283</td></tr><tr><td>&quot;tt0000003&quot;</td><td>6.5</td><td>2099</td></tr><tr><td>&quot;tt0000004&quot;</td><td>5.4</td><td>183</td></tr><tr><td>&quot;tt0000005&quot;</td><td>6.2</td><td>2835</td></tr><tr><td>&quot;tt0000006&quot;</td><td>5.0</td><td>196</td></tr></tbody></table></div>"
      ],
      "text/plain": [
       "shape: (6, 3)\n",
       "┌───────────┬───────────────┬──────────┐\n",
       "│ tconst    ┆ averageRating ┆ numVotes │\n",
       "│ ---       ┆ ---           ┆ ---      │\n",
       "│ str       ┆ f64           ┆ i64      │\n",
       "╞═══════════╪═══════════════╪══════════╡\n",
       "│ tt0000001 ┆ 5.7           ┆ 2092     │\n",
       "│ tt0000002 ┆ 5.6           ┆ 283      │\n",
       "│ tt0000003 ┆ 6.5           ┆ 2099     │\n",
       "│ tt0000004 ┆ 5.4           ┆ 183      │\n",
       "│ tt0000005 ┆ 6.2           ┆ 2835     │\n",
       "│ tt0000006 ┆ 5.0           ┆ 196      │\n",
       "└───────────┴───────────────┴──────────┘"
      ]
     },
     "execution_count": 31,
     "metadata": {},
     "output_type": "execute_result"
    }
   ],
   "source": [
    "head_ratings = pl.read_database(\n",
    "    \"SELECT * FROM ratings LIMIT 6;\",\n",
    "    connection=conn\n",
    ")\n",
    "head_ratings"
   ]
  },
  {
   "cell_type": "markdown",
   "id": "21662070-65a8-47db-95da-1369ee9ba006",
   "metadata": {},
   "source": [
    "# Quais são os 5 filmes com as maiores notas (averageRating)?"
   ]
  },
  {
   "cell_type": "code",
   "execution_count": 29,
   "id": "f815a213-ba0d-43c3-babe-aa850aa2e469",
   "metadata": {},
   "outputs": [
    {
     "data": {
      "text/html": [
       "<div><style>\n",
       ".dataframe > thead > tr,\n",
       ".dataframe > tbody > tr {\n",
       "  text-align: right;\n",
       "  white-space: pre-wrap;\n",
       "}\n",
       "</style>\n",
       "<small>shape: (11, 1)</small><table border=\"1\" class=\"dataframe\"><thead><tr><th>titleType</th></tr><tr><td>str</td></tr></thead><tbody><tr><td>&quot;short&quot;</td></tr><tr><td>&quot;movie&quot;</td></tr><tr><td>&quot;tvShort&quot;</td></tr><tr><td>&quot;tvMovie&quot;</td></tr><tr><td>&quot;tvEpisode&quot;</td></tr><tr><td>&hellip;</td></tr><tr><td>&quot;tvMiniSeries&quot;</td></tr><tr><td>&quot;tvSpecial&quot;</td></tr><tr><td>&quot;video&quot;</td></tr><tr><td>&quot;videoGame&quot;</td></tr><tr><td>&quot;tvPilot&quot;</td></tr></tbody></table></div>"
      ],
      "text/plain": [
       "shape: (11, 1)\n",
       "┌──────────────┐\n",
       "│ titleType    │\n",
       "│ ---          │\n",
       "│ str          │\n",
       "╞══════════════╡\n",
       "│ short        │\n",
       "│ movie        │\n",
       "│ tvShort      │\n",
       "│ tvMovie      │\n",
       "│ tvEpisode    │\n",
       "│ …            │\n",
       "│ tvMiniSeries │\n",
       "│ tvSpecial    │\n",
       "│ video        │\n",
       "│ videoGame    │\n",
       "│ tvPilot      │\n",
       "└──────────────┘"
      ]
     },
     "execution_count": 29,
     "metadata": {},
     "output_type": "execute_result"
    }
   ],
   "source": [
    "query = \"\"\"\n",
    "SELECT DISTINCT titletype\n",
    "FROM basics\n",
    "\"\"\"\n",
    "\n",
    "tipos = pl.read_database(query, connection=conn)\n",
    "tipos"
   ]
  },
  {
   "cell_type": "code",
   "execution_count": 30,
   "id": "83cb4194-0f0a-410d-8d57-1656ed14d3ea",
   "metadata": {},
   "outputs": [
    {
     "data": {
      "text/html": [
       "<div><style>\n",
       ".dataframe > thead > tr,\n",
       ".dataframe > tbody > tr {\n",
       "  text-align: right;\n",
       "  white-space: pre-wrap;\n",
       "}\n",
       "</style>\n",
       "<small>shape: (5, 3)</small><table border=\"1\" class=\"dataframe\"><thead><tr><th>primaryTitle</th><th>averageRating</th><th>numVotes</th></tr><tr><td>str</td><td>f64</td><td>i64</td></tr></thead><tbody><tr><td>&quot;Kaveri&quot;</td><td>10.0</td><td>1023</td></tr><tr><td>&quot;Kurukku&quot;</td><td>10.0</td><td>451</td></tr><tr><td>&quot;Jedal Dar Omghe 30 Metri&quot;</td><td>10.0</td><td>142</td></tr><tr><td>&quot;Sargashte&quot;</td><td>10.0</td><td>134</td></tr><tr><td>&quot;Gorgeous Rascal&quot;</td><td>10.0</td><td>115</td></tr></tbody></table></div>"
      ],
      "text/plain": [
       "shape: (5, 3)\n",
       "┌──────────────────────────┬───────────────┬──────────┐\n",
       "│ primaryTitle             ┆ averageRating ┆ numVotes │\n",
       "│ ---                      ┆ ---           ┆ ---      │\n",
       "│ str                      ┆ f64           ┆ i64      │\n",
       "╞══════════════════════════╪═══════════════╪══════════╡\n",
       "│ Kaveri                   ┆ 10.0          ┆ 1023     │\n",
       "│ Kurukku                  ┆ 10.0          ┆ 451      │\n",
       "│ Jedal Dar Omghe 30 Metri ┆ 10.0          ┆ 142      │\n",
       "│ Sargashte                ┆ 10.0          ┆ 134      │\n",
       "│ Gorgeous Rascal          ┆ 10.0          ┆ 115      │\n",
       "└──────────────────────────┴───────────────┴──────────┘"
      ]
     },
     "execution_count": 30,
     "metadata": {},
     "output_type": "execute_result"
    }
   ],
   "source": [
    "query = \"\"\"\n",
    "SELECT b.primaryTitle, r.averageRating, r.numVotes\n",
    "FROM ratings r\n",
    "JOIN basics b ON r.tconst = b.tconst\n",
    "WHERE b.titletype = 'movie'\n",
    "ORDER BY r.averageRating DESC, r.numVotes DESC\n",
    "LIMIT 5;\n",
    "\"\"\"\n",
    "\n",
    "filmes_melhores_avaliados = pl.read_database(query, connection=conn)\n",
    "filmes_melhores_avaliados\n"
   ]
  },
  {
   "cell_type": "markdown",
   "id": "4e844991-b4b7-42ff-9f19-f63b66b6d91d",
   "metadata": {},
   "source": [
    "Os 5 filmes melhor avaliados estão com nota 10. Sendo esses:\n",
    "\n",
    "- **Kaveri**\n",
    "- **Kurukku**\n",
    "- **Jedal Dar Omghe 30 Metri**\n",
    "- **Sargashte**\n",
    "- **Gorgeous Rascal**\n"
   ]
  },
  {
   "cell_type": "markdown",
   "id": "cf4d64cb-bd59-4f74-a7b1-c8bb70edd6cb",
   "metadata": {},
   "source": [
    "Porém, é perceptível que todos têm numero de avaliações baixas (tendo em vista que o IMDB é uma plataforma internacional). Logo, para uma seleção mais confiável, será utilizado um critério para evitar esse cenário."
   ]
  },
  {
   "cell_type": "code",
   "execution_count": 34,
   "id": "cf90512c-728d-438e-ba26-24c5572b82b7",
   "metadata": {},
   "outputs": [
    {
     "data": {
      "text/html": [
       "<div><style>\n",
       ".dataframe > thead > tr,\n",
       ".dataframe > tbody > tr {\n",
       "  text-align: right;\n",
       "  white-space: pre-wrap;\n",
       "}\n",
       "</style>\n",
       "<small>shape: (5, 3)</small><table border=\"1\" class=\"dataframe\"><thead><tr><th>primaryTitle</th><th>averageRating</th><th>numVotes</th></tr><tr><td>str</td><td>f64</td><td>i64</td></tr></thead><tbody><tr><td>&quot;The Shawshank Redemption&quot;</td><td>9.3</td><td>2948622</td></tr><tr><td>&quot;The Godfather&quot;</td><td>9.2</td><td>2055335</td></tr><tr><td>&quot;The Dark Knight&quot;</td><td>9.0</td><td>2929338</td></tr><tr><td>&quot;The Lord of the Rings: The Ret…</td><td>9.0</td><td>2018311</td></tr><tr><td>&quot;Schindlers List&quot;</td><td>9.0</td><td>1479154</td></tr></tbody></table></div>"
      ],
      "text/plain": [
       "shape: (5, 3)\n",
       "┌─────────────────────────────────┬───────────────┬──────────┐\n",
       "│ primaryTitle                    ┆ averageRating ┆ numVotes │\n",
       "│ ---                             ┆ ---           ┆ ---      │\n",
       "│ str                             ┆ f64           ┆ i64      │\n",
       "╞═════════════════════════════════╪═══════════════╪══════════╡\n",
       "│ The Shawshank Redemption        ┆ 9.3           ┆ 2948622  │\n",
       "│ The Godfather                   ┆ 9.2           ┆ 2055335  │\n",
       "│ The Dark Knight                 ┆ 9.0           ┆ 2929338  │\n",
       "│ The Lord of the Rings: The Ret… ┆ 9.0           ┆ 2018311  │\n",
       "│ Schindlers List                 ┆ 9.0           ┆ 1479154  │\n",
       "└─────────────────────────────────┴───────────────┴──────────┘"
      ]
     },
     "execution_count": 34,
     "metadata": {},
     "output_type": "execute_result"
    }
   ],
   "source": [
    "query = \"\"\"\n",
    "SELECT b.primaryTitle, r.averageRating, r.numVotes\n",
    "FROM ratings r\n",
    "JOIN basics b ON r.tconst = b.tconst\n",
    "WHERE b.titletype = 'movie'\n",
    "AND r.numVotes > 100000\n",
    "ORDER BY r.averageRating DESC, r.numVotes DESC\n",
    "LIMIT 5;\n",
    "\"\"\"\n",
    "\n",
    "filmes_melhores_avaliados_com_criterio = pl.read_database(query, connection=conn)\n",
    "filmes_melhores_avaliados_com_criterio"
   ]
  },
  {
   "cell_type": "markdown",
   "id": "2a74ccc6-0286-4b5f-8528-40cbefe29587",
   "metadata": {},
   "source": [
    "Após o uso de 'numVotes' > 100.000 , os filmes melhores avaliados são:\n",
    "1. **The Shawshank Redemption** (Nota: 9.3)\n",
    "2. **The Godfather** (Nota: 9.2)\n",
    "3. **The Dark Knight** (Nota: 9.0)\n",
    "4. **The Lord of the Rings: The Return of the King** (Nota: 9.0)\n",
    "5. **Schindlers List** (Nota: 9.0)"
   ]
  },
  {
   "cell_type": "markdown",
   "id": "ba19a29b-084b-498f-b0df-5622f36fb3c4",
   "metadata": {},
   "source": [
    "# Qual é o gênero mais frequente entre os filmes com nota maior que 8?"
   ]
  },
  {
   "cell_type": "markdown",
   "id": "2498ba5c-9329-4cd2-91b1-4106a222c790",
   "metadata": {},
   "source": [
    "### Analisando os gêneros presentes na tabela"
   ]
  },
  {
   "cell_type": "code",
   "execution_count": 35,
   "id": "4b75eb9b-5fd9-4ced-9afe-82b5e62fc319",
   "metadata": {
    "scrolled": true
   },
   "outputs": [
    {
     "data": {
      "text/html": [
       "<div><style>\n",
       ".dataframe > thead > tr,\n",
       ".dataframe > tbody > tr {\n",
       "  text-align: right;\n",
       "  white-space: pre-wrap;\n",
       "}\n",
       "</style>\n",
       "<small>shape: (2_381, 1)</small><table border=\"1\" class=\"dataframe\"><thead><tr><th>genres</th></tr><tr><td>str</td></tr></thead><tbody><tr><td>&quot;Documentary,Short&quot;</td></tr><tr><td>&quot;Animation,Short&quot;</td></tr><tr><td>&quot;Animation,Comedy,Romance&quot;</td></tr><tr><td>&quot;Comedy,Short&quot;</td></tr><tr><td>&quot;Short&quot;</td></tr><tr><td>&hellip;</td></tr><tr><td>&quot;Adult,Short,Thriller&quot;</td></tr><tr><td>&quot;Adult,Animation,Talk-Show&quot;</td></tr><tr><td>&quot;Biography,Crime,Fantasy&quot;</td></tr><tr><td>&quot;Mystery,Reality-TV,Thriller&quot;</td></tr><tr><td>&quot;Musical,Reality-TV,Talk-Show&quot;</td></tr></tbody></table></div>"
      ],
      "text/plain": [
       "shape: (2_381, 1)\n",
       "┌──────────────────────────────┐\n",
       "│ genres                       │\n",
       "│ ---                          │\n",
       "│ str                          │\n",
       "╞══════════════════════════════╡\n",
       "│ Documentary,Short            │\n",
       "│ Animation,Short              │\n",
       "│ Animation,Comedy,Romance     │\n",
       "│ Comedy,Short                 │\n",
       "│ Short                        │\n",
       "│ …                            │\n",
       "│ Adult,Short,Thriller         │\n",
       "│ Adult,Animation,Talk-Show    │\n",
       "│ Biography,Crime,Fantasy      │\n",
       "│ Mystery,Reality-TV,Thriller  │\n",
       "│ Musical,Reality-TV,Talk-Show │\n",
       "└──────────────────────────────┘"
      ]
     },
     "execution_count": 35,
     "metadata": {},
     "output_type": "execute_result"
    }
   ],
   "source": [
    "query = \"\"\"\n",
    "SELECT DISTINCT genres\n",
    "FROM basics;\n",
    "\"\"\"\n",
    "\n",
    "generos_basics = pl.read_database(query, connection=conn)\n",
    "generos_basics"
   ]
  },
  {
   "cell_type": "markdown",
   "id": "ec24015d-56dd-49a2-ae51-2d5045f32cdb",
   "metadata": {},
   "source": [
    "Buscando gênero mais frequente em notas maiores que 8:"
   ]
  },
  {
   "cell_type": "code",
   "execution_count": 38,
   "id": "b02a8bb8-6f0d-4924-a0b8-315d3ebe6a1c",
   "metadata": {},
   "outputs": [
    {
     "name": "stdout",
     "output_type": "stream",
     "text": [
      "shape: (2, 2)\n",
      "┌─────────────┬───────┐\n",
      "│ genre_list  ┆ count │\n",
      "│ ---         ┆ ---   │\n",
      "│ str         ┆ u32   │\n",
      "╞═════════════╪═══════╡\n",
      "│ Documentary ┆ 10564 │\n",
      "│ Drama       ┆ 8114  │\n",
      "└─────────────┴───────┘\n"
     ]
    }
   ],
   "source": [
    "# Método mais idiomático do Polars\n",
    "all_genres = (\n",
    "    high_rating\n",
    "    .filter(pl.col(\"genres\").is_not_null())\n",
    "    .with_columns(\n",
    "        pl.col(\"genres\")\n",
    "        .str.split(\",\")\n",
    "        .alias(\"genre_list\")\n",
    "    )\n",
    "    .explode(\"genre_list\")\n",
    "    .group_by(\"genre_list\")\n",
    "    .agg(pl.len().alias(\"count\"))\n",
    "    .sort(\"count\", descending=True)\n",
    "    .head(2)\n",
    ")\n",
    "\n",
    "print(all_genres)"
   ]
  },
  {
   "cell_type": "markdown",
   "id": "46dc55bf-e2a2-4a1f-9027-65080dde7425",
   "metadata": {},
   "source": [
    "Logo, o gênero com maior contagem de notas atribuídas maiores que 8 é **Documentary**. Este fenômeno ocorre porque documentários, com menos avaliações e públicos mais nichados, mantêm notas altas mais facilmente. Enquanto filmes de outros gêneros recebem volume massivo de votos com maior variação, documentários beneficiam-se de engajamento mais favorável entre seu público específico."
   ]
  },
  {
   "cell_type": "markdown",
   "id": "ac4ad8ad-9542-4d6b-b4e1-45097c207cf7",
   "metadata": {},
   "source": [
    "# Quais são os 3 atores/atrizes que mais participaram de filmes com nota maior que 7.5?"
   ]
  },
  {
   "cell_type": "markdown",
   "id": "28093825-9559-4739-a17a-49d923fc0121",
   "metadata": {},
   "source": [
    "**Contagem de atores**"
   ]
  },
  {
   "cell_type": "code",
   "execution_count": 39,
   "id": "e9f973b1-e424-4500-88bf-987c786bd7e3",
   "metadata": {},
   "outputs": [
    {
     "data": {
      "text/html": [
       "<div><style>\n",
       ".dataframe > thead > tr,\n",
       ".dataframe > tbody > tr {\n",
       "  text-align: right;\n",
       "  white-space: pre-wrap;\n",
       "}\n",
       "</style>\n",
       "<small>shape: (1, 1)</small><table border=\"1\" class=\"dataframe\"><thead><tr><th>COUNT(DISTINCT nconst)</th></tr><tr><td>i64</td></tr></thead><tbody><tr><td>4069682</td></tr></tbody></table></div>"
      ],
      "text/plain": [
       "shape: (1, 1)\n",
       "┌────────────────────────┐\n",
       "│ COUNT(DISTINCT nconst) │\n",
       "│ ---                    │\n",
       "│ i64                    │\n",
       "╞════════════════════════╡\n",
       "│ 4069682                │\n",
       "└────────────────────────┘"
      ]
     },
     "execution_count": 39,
     "metadata": {},
     "output_type": "execute_result"
    }
   ],
   "source": [
    "query = \"\"\"\n",
    "SELECT COUNT(DISTINCT nconst)\n",
    "FROM principals\n",
    "WHERE characters IS NOT NULL;\n",
    "\"\"\"\n",
    "\n",
    "atores = pl.read_database(query, connection=conn)\n",
    "atores"
   ]
  },
  {
   "cell_type": "markdown",
   "id": "a21f2226-6608-4dde-83b1-cf03c0eb45da",
   "metadata": {},
   "source": [
    "**Id dos Filmes com averageRating > 7.5**"
   ]
  },
  {
   "cell_type": "code",
   "execution_count": 40,
   "id": "4157a762-cf40-4251-8a10-7acf89e76ad5",
   "metadata": {},
   "outputs": [
    {
     "data": {
      "text/html": [
       "<div><style>\n",
       ".dataframe > thead > tr,\n",
       ".dataframe > tbody > tr {\n",
       "  text-align: right;\n",
       "  white-space: pre-wrap;\n",
       "}\n",
       "</style>\n",
       "<small>shape: (47_500, 1)</small><table border=\"1\" class=\"dataframe\"><thead><tr><th>tconst</th></tr><tr><td>str</td></tr></thead><tbody><tr><td>&quot;tt0002305&quot;</td></tr><tr><td>&quot;tt0003386&quot;</td></tr><tr><td>&quot;tt0003748&quot;</td></tr><tr><td>&quot;tt0003771&quot;</td></tr><tr><td>&quot;tt0004167&quot;</td></tr><tr><td>&hellip;</td></tr><tr><td>&quot;tt9911774&quot;</td></tr><tr><td>&quot;tt9914642&quot;</td></tr><tr><td>&quot;tt9914644&quot;</td></tr><tr><td>&quot;tt9916538&quot;</td></tr><tr><td>&quot;tt9916706&quot;</td></tr></tbody></table></div>"
      ],
      "text/plain": [
       "shape: (47_500, 1)\n",
       "┌───────────┐\n",
       "│ tconst    │\n",
       "│ ---       │\n",
       "│ str       │\n",
       "╞═══════════╡\n",
       "│ tt0002305 │\n",
       "│ tt0003386 │\n",
       "│ tt0003748 │\n",
       "│ tt0003771 │\n",
       "│ tt0004167 │\n",
       "│ …         │\n",
       "│ tt9911774 │\n",
       "│ tt9914642 │\n",
       "│ tt9914644 │\n",
       "│ tt9916538 │\n",
       "│ tt9916706 │\n",
       "└───────────┘"
      ]
     },
     "execution_count": 40,
     "metadata": {},
     "output_type": "execute_result"
    }
   ],
   "source": [
    "query = \"\"\"\n",
    "SELECT r.tconst\n",
    "FROM ratings r\n",
    "JOIN basics b ON r.tconst = b.tconst\n",
    "WHERE r.averageRating > 7.5\n",
    "AND b.titleType = 'movie';\n",
    "\"\"\"\n",
    "\n",
    "filmes = pl.read_database(query, connection=conn)\n",
    "filmes"
   ]
  },
  {
   "cell_type": "code",
   "execution_count": 41,
   "id": "0fad5b75-2cce-4eaf-bab6-146310e335da",
   "metadata": {
    "scrolled": true
   },
   "outputs": [
    {
     "data": {
      "text/html": [
       "<div><style>\n",
       ".dataframe > thead > tr,\n",
       ".dataframe > tbody > tr {\n",
       "  text-align: right;\n",
       "  white-space: pre-wrap;\n",
       "}\n",
       "</style>\n",
       "<small>shape: (3, 2)</small><table border=\"1\" class=\"dataframe\"><thead><tr><th>nconst</th><th>Total</th></tr><tr><td>str</td><td>i64</td></tr></thead><tbody><tr><td>&quot;nm0004660&quot;</td><td>233</td></tr><tr><td>&quot;nm5954636&quot;</td><td>200</td></tr><tr><td>&quot;nm0595934&quot;</td><td>170</td></tr></tbody></table></div>"
      ],
      "text/plain": [
       "shape: (3, 2)\n",
       "┌───────────┬───────┐\n",
       "│ nconst    ┆ Total │\n",
       "│ ---       ┆ ---   │\n",
       "│ str       ┆ i64   │\n",
       "╞═══════════╪═══════╡\n",
       "│ nm0004660 ┆ 233   │\n",
       "│ nm5954636 ┆ 200   │\n",
       "│ nm0595934 ┆ 170   │\n",
       "└───────────┴───────┘"
      ]
     },
     "execution_count": 41,
     "metadata": {},
     "output_type": "execute_result"
    }
   ],
   "source": [
    "query = \"\"\"\n",
    "SELECT nconst, COUNT(tconst) AS Total\n",
    "FROM principals\n",
    "WHERE tconst IN (SELECT r.tconst\n",
    "                 FROM ratings r\n",
    "                 JOIN basics b ON r.tconst = b.tconst\n",
    "                 WHERE r.averageRating > 7.5\n",
    "                 AND b.titleType = 'movie')\n",
    "GROUP BY nconst\n",
    "ORDER BY Total DESC \n",
    "LIMIT 3\n",
    "\"\"\"\n",
    "\n",
    "atores = pl.read_database(query, connection=conn)\n",
    "atores"
   ]
  },
  {
   "cell_type": "markdown",
   "id": "e32da3f7-e1af-4e60-b73d-bc52ce23a1e5",
   "metadata": {},
   "source": [
    "Como não foi fornecido o nome dos atores, foi selecionado os ID's dos 3 autores.\n",
    "- **nm0004660** (233 participações)\n",
    "- **nm5954636** (200 participações)\n",
    "- **nm0595934** (170 participações)"
   ]
  },
  {
   "cell_type": "code",
   "execution_count": 42,
   "id": "b7b39f2a-6500-4307-9d52-61d760ce77eb",
   "metadata": {},
   "outputs": [],
   "source": [
    "conn.close()"
   ]
  },
  {
   "cell_type": "code",
   "execution_count": null,
   "id": "e7bcf644-24fc-49cf-85af-f73c2d401ce3",
   "metadata": {},
   "outputs": [],
   "source": []
  }
 ],
 "metadata": {
  "kernelspec": {
   "display_name": "Python 3 (ipykernel)",
   "language": "python",
   "name": "python3"
  },
  "language_info": {
   "codemirror_mode": {
    "name": "ipython",
    "version": 3
   },
   "file_extension": ".py",
   "mimetype": "text/x-python",
   "name": "python",
   "nbconvert_exporter": "python",
   "pygments_lexer": "ipython3",
   "version": "3.13.5"
  }
 },
 "nbformat": 4,
 "nbformat_minor": 5
}
