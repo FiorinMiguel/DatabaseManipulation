{
 "cells": [
  {
   "cell_type": "code",
   "execution_count": 2,
   "id": "f2059688-7981-488f-923c-8b5779448669",
   "metadata": {},
   "outputs": [],
   "source": [
    "import sqlite3\n",
    "import pandas as pd\n",
    "conn = sqlite3.connect(\"IMDB.db\")\n",
    "cursor = conn.cursor()"
   ]
  },
  {
   "cell_type": "code",
   "execution_count": 1,
   "id": "b91e7833-cfaf-43a3-b896-ff3c1ecdb63b",
   "metadata": {},
   "outputs": [
    {
     "name": "stdout",
     "output_type": "stream",
     "text": [
      "Compilado em: 16/10/2025 23:12:40\n"
     ]
    }
   ],
   "source": [
    "from datetime import datetime\n",
    "\n",
    "now = datetime.now()\n",
    "print(\"Compilado em:\", now.strftime(\"%d/%m/%Y %H:%M:%S\"))"
   ]
  },
  {
   "cell_type": "markdown",
   "id": "73e4fd92-1f74-44fc-ac7e-835815f77494",
   "metadata": {},
   "source": [
    "# IMDB Querys - LAB 13 (ME315)\n",
    "## Analisando estrutura das tabelas presentes no banco de dados"
   ]
  },
  {
   "cell_type": "markdown",
   "id": "8d30d32f-cd96-43c6-998d-f05a8bf5f36a",
   "metadata": {},
   "source": [
    "**Tabela basics**:"
   ]
  },
  {
   "cell_type": "code",
   "execution_count": 20,
   "id": "b95dda65-91d7-4935-8003-cb3c3980a684",
   "metadata": {
    "scrolled": true
   },
   "outputs": [
    {
     "name": "stdout",
     "output_type": "stream",
     "text": [
      "      tconst titleType            primaryTitle           originalTitle  \\\n",
      "0  tt0000001     short              Carmencita              Carmencita   \n",
      "1  tt0000002     short  Le clown et ses chiens  Le clown et ses chiens   \n",
      "2  tt0000003     short          Pauvre Pierrot          Pauvre Pierrot   \n",
      "3  tt0000004     short             Un bon bock             Un bon bock   \n",
      "4  tt0000005     short        Blacksmith Scene        Blacksmith Scene   \n",
      "5  tt0000006     short       Chinese Opium Den       Chinese Opium Den   \n",
      "\n",
      "   isAdult startYear endYear runtimeMinutes                    genres  \n",
      "0      0.0      1894      \\N              1         Documentary,Short  \n",
      "1      0.0      1892      \\N              5           Animation,Short  \n",
      "2      0.0      1892      \\N              5  Animation,Comedy,Romance  \n",
      "3      0.0      1892      \\N             12           Animation,Short  \n",
      "4      0.0      1893      \\N              1              Comedy,Short  \n",
      "5      0.0      1894      \\N              1                     Short  \n"
     ]
    }
   ],
   "source": [
    "head_basics = pd.read_sql_query(\"SELECT * FROM basics LIMIT 6;\", conn)\n",
    "print(head_basics)"
   ]
  },
  {
   "cell_type": "markdown",
   "id": "5f159f70-3bc9-4467-81f3-0b1cfa22a692",
   "metadata": {},
   "source": [
    "**Tabela principals**:"
   ]
  },
  {
   "cell_type": "code",
   "execution_count": 21,
   "id": "276fd854-1c8d-4de4-a12f-34dcd1180a08",
   "metadata": {},
   "outputs": [
    {
     "name": "stdout",
     "output_type": "stream",
     "text": [
      "      tconst  ordering     nconst         category                      job  \\\n",
      "0  tt0000001       1.0  nm1588970             self                       \\N   \n",
      "1  tt0000001       2.0  nm0005690         director                       \\N   \n",
      "2  tt0000001       3.0  nm0005690         producer                 producer   \n",
      "3  tt0000001       4.0  nm0374658  cinematographer  director of photography   \n",
      "4  tt0000002       1.0  nm0721526         director                       \\N   \n",
      "5  tt0000002       2.0  nm1335271         composer                       \\N   \n",
      "\n",
      "  characters  \n",
      "0     [Self]  \n",
      "1         \\N  \n",
      "2         \\N  \n",
      "3         \\N  \n",
      "4         \\N  \n",
      "5         \\N  \n"
     ]
    }
   ],
   "source": [
    "head_principals = pd.read_sql_query(\"SELECT * FROM principals LIMIT 6;\", conn)\n",
    "print(head_principals)"
   ]
  },
  {
   "cell_type": "markdown",
   "id": "1ac17fc4-0bff-4a1a-a2be-4a159deeeacc",
   "metadata": {},
   "source": [
    "**Tabela ratings**:"
   ]
  },
  {
   "cell_type": "code",
   "execution_count": 22,
   "id": "2e351ac9-275f-43d6-b987-49f89e55bf28",
   "metadata": {},
   "outputs": [
    {
     "name": "stdout",
     "output_type": "stream",
     "text": [
      "      tconst  averageRating  numVotes\n",
      "0  tt0000001            5.7    2092.0\n",
      "1  tt0000002            5.6     283.0\n",
      "2  tt0000003            6.5    2099.0\n",
      "3  tt0000004            5.4     183.0\n",
      "4  tt0000005            6.2    2835.0\n",
      "5  tt0000006            5.0     196.0\n"
     ]
    }
   ],
   "source": [
    "head_ratings = pd.read_sql_query(\"SELECT * FROM ratings LIMIT 6;\", conn)\n",
    "print(head_ratings)"
   ]
  },
  {
   "cell_type": "markdown",
   "id": "21662070-65a8-47db-95da-1369ee9ba006",
   "metadata": {},
   "source": [
    "# Quais são os 5 filmes com as maiores notas (averageRating)?"
   ]
  },
  {
   "cell_type": "code",
   "execution_count": 3,
   "id": "f815a213-ba0d-43c3-babe-aa850aa2e469",
   "metadata": {},
   "outputs": [
    {
     "name": "stdout",
     "output_type": "stream",
     "text": [
      "       titleType\n",
      "0          short\n",
      "1          movie\n",
      "2        tvShort\n",
      "3        tvMovie\n",
      "4      tvEpisode\n",
      "5       tvSeries\n",
      "6   tvMiniSeries\n",
      "7      tvSpecial\n",
      "8          video\n",
      "9      videoGame\n",
      "10       tvPilot\n"
     ]
    }
   ],
   "source": [
    "query = \"\"\"\n",
    "SELECT DISTINCT titletype\n",
    "FROM basics\n",
    "\"\"\"\n",
    "teste = pd.read_sql_query(query,conn)\n",
    "print(teste)"
   ]
  },
  {
   "cell_type": "code",
   "execution_count": 6,
   "id": "83cb4194-0f0a-410d-8d57-1656ed14d3ea",
   "metadata": {},
   "outputs": [
    {
     "name": "stdout",
     "output_type": "stream",
     "text": [
      "               primaryTitle  averageRating  numVotes\n",
      "0                    Kaveri           10.0    1023.0\n",
      "1                   Kurukku           10.0     451.0\n",
      "2  Jedal Dar Omghe 30 Metri           10.0     142.0\n",
      "3                 Sargashte           10.0     134.0\n",
      "4           Gorgeous Rascal           10.0     115.0\n"
     ]
    }
   ],
   "source": [
    "query = \"\"\"\n",
    "SELECT b.primaryTitle, r.averageRating, r.numVotes\n",
    "FROM ratings r\n",
    "JOIN basics b ON r.tconst = b.tconst\n",
    "WHERE b.titletype = 'movie'\n",
    "ORDER BY r.averageRating DESC, r.numVotes DESC\n",
    "LIMIT 5;\n",
    "\"\"\"\n",
    "filmes_melhores_avaliados = pd.read_sql_query(query, conn)\n",
    "print(filmes_melhores_avaliados)\n"
   ]
  },
  {
   "cell_type": "markdown",
   "id": "4e844991-b4b7-42ff-9f19-f63b66b6d91d",
   "metadata": {},
   "source": [
    "Os 5 filmes melhor avaliados estão com nota 10. Sendo esses:\n",
    "\n",
    "- **Kaveri**\n",
    "- **Kurukku**\n",
    "- **Jedal Dar Omghe 30 Metri**\n",
    "- **Sargashte**\n",
    "- **Gorgeous Rascal**\n"
   ]
  },
  {
   "cell_type": "markdown",
   "id": "cf4d64cb-bd59-4f74-a7b1-c8bb70edd6cb",
   "metadata": {},
   "source": [
    "Porém, é perceptível que todos têm numero de avaliações baixas (tendo em vista que o IMDB é uma plataforma internacional). Logo, para uma seleção mais confiável, será utilizado um critério para evitar esse cenário."
   ]
  },
  {
   "cell_type": "code",
   "execution_count": 8,
   "id": "cf90512c-728d-438e-ba26-24c5572b82b7",
   "metadata": {},
   "outputs": [
    {
     "name": "stdout",
     "output_type": "stream",
     "text": [
      "                                    primaryTitle  averageRating   numVotes\n",
      "0                       The Shawshank Redemption            9.3  2948622.0\n",
      "1                                  The Godfather            9.2  2055335.0\n",
      "2                                The Dark Knight            9.0  2929338.0\n",
      "3  The Lord of the Rings: The Return of the King            9.0  2018311.0\n",
      "4                                Schindlers List            9.0  1479154.0\n"
     ]
    }
   ],
   "source": [
    "query = \"\"\"\n",
    "SELECT b.primaryTitle, r.averageRating, r.numVotes\n",
    "FROM ratings r\n",
    "JOIN basics b ON r.tconst = b.tconst\n",
    "WHERE b.titletype = 'movie'\n",
    "AND r.numVotes > 100000\n",
    "ORDER BY r.averageRating DESC, r.numVotes DESC\n",
    "LIMIT 5;\n",
    "\"\"\"\n",
    "filmes_melhores_avaliados_com_criterio = pd.read_sql_query(query, conn)\n",
    "print(filmes_melhores_avaliados_com_criterio)"
   ]
  },
  {
   "cell_type": "markdown",
   "id": "2a74ccc6-0286-4b5f-8528-40cbefe29587",
   "metadata": {},
   "source": [
    "Após o uso de 'numVotes' > 100.000 , os filmes melhores avaliados são:\n",
    "1. **The Shawshank Redemption** (Nota: 9.3)\n",
    "2. **The Godfather** (Nota: 9.2)\n",
    "3. **The Dark Knight** (Nota: 9.0)\n",
    "4. **The Lord of the Rings: The Return of the King** (Nota: 9.0)\n",
    "5. **Schindlers List** (Nota: 9.0)"
   ]
  },
  {
   "cell_type": "markdown",
   "id": "ba19a29b-084b-498f-b0df-5622f36fb3c4",
   "metadata": {},
   "source": [
    "# Qual é o gênero mais frequente entre os filmes com nota maior que 8?"
   ]
  },
  {
   "cell_type": "markdown",
   "id": "2498ba5c-9329-4cd2-91b1-4106a222c790",
   "metadata": {},
   "source": [
    "### Analisando os gêneros presentes na tabela"
   ]
  },
  {
   "cell_type": "code",
   "execution_count": 6,
   "id": "4b75eb9b-5fd9-4ced-9afe-82b5e62fc319",
   "metadata": {
    "scrolled": true
   },
   "outputs": [
    {
     "name": "stdout",
     "output_type": "stream",
     "text": [
      "                            genres\n",
      "0                Documentary,Short\n",
      "1                  Animation,Short\n",
      "2         Animation,Comedy,Romance\n",
      "3                     Comedy,Short\n",
      "4                            Short\n",
      "...                            ...\n",
      "2376          Adult,Short,Thriller\n",
      "2377     Adult,Animation,Talk-Show\n",
      "2378       Biography,Crime,Fantasy\n",
      "2379   Mystery,Reality-TV,Thriller\n",
      "2380  Musical,Reality-TV,Talk-Show\n",
      "\n",
      "[2381 rows x 1 columns]\n"
     ]
    }
   ],
   "source": [
    "query = \"\"\"\n",
    "SELECT DISTINCT genres\n",
    "FROM basics;\n",
    "\"\"\"\n",
    "generos_basics = pd.read_sql_query(query, conn)\n",
    "print(generos_basics)"
   ]
  },
  {
   "cell_type": "markdown",
   "id": "ec24015d-56dd-49a2-ae51-2d5045f32cdb",
   "metadata": {},
   "source": [
    "Buscando gênero mais frequente em notas maiores que 8:"
   ]
  },
  {
   "cell_type": "code",
   "execution_count": 8,
   "id": "b02a8bb8-6f0d-4924-a0b8-315d3ebe6a1c",
   "metadata": {},
   "outputs": [
    {
     "name": "stdout",
     "output_type": "stream",
     "text": [
      "[('Documentary', 10564), ('Drama', 8114)]\n"
     ]
    }
   ],
   "source": [
    "high_rating = pd.read_sql_query(\"\"\"\n",
    "SELECT genres \n",
    "FROM basics b\n",
    "JOIN ratings r ON b.tconst = r.tconst\n",
    "WHERE r.averageRating > 8\n",
    "AND b.titleType = 'movie'\n",
    "\"\"\", conn)\n",
    "\n",
    "from collections import Counter\n",
    "\n",
    "all_genres = Counter()\n",
    "for g in high_rating['genres'].dropna():\n",
    "    for genre in g.split(','):\n",
    "        all_genres[genre] += 1\n",
    "\n",
    "print(all_genres.most_common(2))"
   ]
  },
  {
   "cell_type": "markdown",
   "id": "46dc55bf-e2a2-4a1f-9027-65080dde7425",
   "metadata": {},
   "source": [
    "Logo, o gênero com maior contagem de notas atribuídas maiores que 8 é **Documentary**. Este fenômeno ocorre porque documentários, com menos avaliações e públicos mais nichados, mantêm notas altas mais facilmente. Enquanto filmes de outros gêneros recebem volume massivo de votos com maior variação, documentários beneficiam-se de engajamento mais favorável entre seu público específico."
   ]
  },
  {
   "cell_type": "markdown",
   "id": "ac4ad8ad-9542-4d6b-b4e1-45097c207cf7",
   "metadata": {},
   "source": [
    "# Quais são os 3 atores/atrizes que mais participaram de filmes com nota maior que 7.5?"
   ]
  },
  {
   "cell_type": "markdown",
   "id": "28093825-9559-4739-a17a-49d923fc0121",
   "metadata": {},
   "source": [
    "**Contagem de atores**"
   ]
  },
  {
   "cell_type": "code",
   "execution_count": 3,
   "id": "e9f973b1-e424-4500-88bf-987c786bd7e3",
   "metadata": {},
   "outputs": [
    {
     "name": "stdout",
     "output_type": "stream",
     "text": [
      "   COUNT(DISTINCT nconst)\n",
      "0                 6442349\n"
     ]
    }
   ],
   "source": [
    "query = \"\"\"\n",
    "SELECT COUNT(DISTINCT nconst)\n",
    "FROM principals\n",
    "WHERE characters IS NOT NULL;\n",
    "\"\"\"\n",
    "atores = pd.read_sql_query(query, conn)\n",
    "print(atores)"
   ]
  },
  {
   "cell_type": "markdown",
   "id": "a21f2226-6608-4dde-83b1-cf03c0eb45da",
   "metadata": {},
   "source": [
    "**Id dos Filmes com averageRating > 7.5**"
   ]
  },
  {
   "cell_type": "code",
   "execution_count": 4,
   "id": "4157a762-cf40-4251-8a10-7acf89e76ad5",
   "metadata": {},
   "outputs": [
    {
     "name": "stdout",
     "output_type": "stream",
     "text": [
      "          tconst\n",
      "0      tt0002305\n",
      "1      tt0003386\n",
      "2      tt0003748\n",
      "3      tt0003771\n",
      "4      tt0004167\n",
      "...          ...\n",
      "47495  tt9911774\n",
      "47496  tt9914642\n",
      "47497  tt9914644\n",
      "47498  tt9916538\n",
      "47499  tt9916706\n",
      "\n",
      "[47500 rows x 1 columns]\n"
     ]
    }
   ],
   "source": [
    "query = \"\"\"\n",
    "SELECT r.tconst\n",
    "FROM ratings r\n",
    "JOIN basics b ON r.tconst = b.tconst\n",
    "WHERE r.averageRating > 7.5\n",
    "AND b.titleType = 'movie';\n",
    "\"\"\"\n",
    "filmes = pd.read_sql_query(query, conn)\n",
    "print(filmes)\n"
   ]
  },
  {
   "cell_type": "code",
   "execution_count": 5,
   "id": "0fad5b75-2cce-4eaf-bab6-146310e335da",
   "metadata": {
    "scrolled": true
   },
   "outputs": [
    {
     "name": "stdout",
     "output_type": "stream",
     "text": [
      "      nconst  Total\n",
      "0  nm0004660    233\n",
      "1  nm5954636    200\n",
      "2  nm0595934    170\n"
     ]
    }
   ],
   "source": [
    "query = \"\"\"\n",
    "SELECT nconst , COUNT(tconst) AS Total\n",
    "FROM principals\n",
    "WHERE tconst IN (SELECT r.tconst\n",
    "                 FROM ratings r\n",
    "                 JOIN basics b ON r.tconst = b.tconst\n",
    "                 WHERE r.averageRating > 7.5\n",
    "                 AND b.titleType = 'movie')\n",
    "GROUP BY nconst\n",
    "ORDER BY Total DESC \n",
    "LIMIT 3\n",
    "\"\"\"\n",
    "\n",
    "atores = pd.read_sql_query(query, conn)\n",
    "print(atores)"
   ]
  },
  {
   "cell_type": "markdown",
   "id": "e32da3f7-e1af-4e60-b73d-bc52ce23a1e5",
   "metadata": {},
   "source": [
    "Como não foi fornecido o nome dos atores, foi selecionado os ID's dos 3 autores.\n",
    "- **nm0004660** (233 participações)\n",
    "- **nm5954636** (200 participações)\n",
    "- **nm0595934** (170 participações)"
   ]
  },
  {
   "cell_type": "code",
   "execution_count": 16,
   "id": "b7b39f2a-6500-4307-9d52-61d760ce77eb",
   "metadata": {},
   "outputs": [],
   "source": [
    "conn.close()"
   ]
  }
 ],
 "metadata": {
  "kernelspec": {
   "display_name": "Python 3 (ipykernel)",
   "language": "python",
   "name": "python3"
  },
  "language_info": {
   "codemirror_mode": {
    "name": "ipython",
    "version": 3
   },
   "file_extension": ".py",
   "mimetype": "text/x-python",
   "name": "python",
   "nbconvert_exporter": "python",
   "pygments_lexer": "ipython3",
   "version": "3.13.5"
  }
 },
 "nbformat": 4,
 "nbformat_minor": 5
}
